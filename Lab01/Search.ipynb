{
 "cells": [
  {
   "metadata": {},
   "cell_type": "markdown",
   "source": "# Tìm kiếm trong không gian trạng thái",
   "id": "113543121baa1f79"
  },
  {
   "metadata": {},
   "cell_type": "markdown",
   "source": [
    "## Bài 1: Biểu diễn đồ thị\n",
    "\n",
    "Cho đồ thị hàm số G(V,E) như bên:"
   ],
   "id": "f62b7cab4714ac99"
  },
  {
   "metadata": {},
   "cell_type": "markdown",
   "source": "![dothi](dothi.png)",
   "id": "ebf9e63a61b6632"
  },
  {
   "metadata": {},
   "cell_type": "markdown",
   "source": "### 1. Biễu diễn bằng danh sách / ma trận kề",
   "id": "4d9edc0aa13bd17a"
  },
  {
   "cell_type": "code",
   "id": "initial_id",
   "metadata": {
    "collapsed": true,
    "ExecuteTime": {
     "end_time": "2025-09-16T13:43:07.874756Z",
     "start_time": "2025-09-16T13:43:07.863695Z"
    }
   },
   "source": [
    "import pprint\n",
    "\n",
    "graph = {\n",
    "    'A': {'C', 'E', 'D', 'F'},\n",
    "    'B': {},\n",
    "    'C': {'H'},\n",
    "    'D': {'H', 'E'},\n",
    "    'E': {'K', 'I'},\n",
    "    'F': {'I', 'G'},\n",
    "    'G': {},\n",
    "    'H': {'K'},\n",
    "    'I': {'B', 'K'},\n",
    "    'K': {'B'}\n",
    "}\n",
    "\n",
    "pprint.pprint(graph)"
   ],
   "outputs": [
    {
     "name": "stdout",
     "output_type": "stream",
     "text": [
      "{'A': {'C', 'F', 'E', 'D'},\n",
      " 'B': {},\n",
      " 'C': {'H'},\n",
      " 'D': {'E', 'H'},\n",
      " 'E': {'K', 'I'},\n",
      " 'F': {'G', 'I'},\n",
      " 'G': {},\n",
      " 'H': {'K'},\n",
      " 'I': {'B', 'K'},\n",
      " 'K': {'B'}}\n"
     ]
    }
   ],
   "execution_count": 3
  },
  {
   "metadata": {},
   "cell_type": "markdown",
   "source": [
    "### 2. Thao tác duyệt đồ thị\n",
    "\n",
    "(a) Liệt kê các đỉnh trong đồ thị. <br/>\n",
    "(b) Liệt kê tất cả các cạnh đồ thị hiển thị dạng danh sách kề. <br/>\n",
    "(c) Cho hai đỉnh A, B. Hỏi hai đỉnh A, B có kề nhau không? <br/>\n",
    "(d) Cho một đỉnh A. Hỏi danh sách các đỉnh kề với A. <br/>"
   ],
   "id": "4225c5c5fe106e3f"
  },
  {
   "metadata": {
    "ExecuteTime": {
     "end_time": "2025-09-16T13:58:32.744469Z",
     "start_time": "2025-09-16T13:58:32.730468Z"
    }
   },
   "cell_type": "code",
   "source": [
    "vertices = list(graph.keys())\n",
    "\n",
    "print(\"(a) Các đỉnh của đồ thị: \", \" \".join(vertices))"
   ],
   "id": "7ef18059ed0785bd",
   "outputs": [
    {
     "name": "stdout",
     "output_type": "stream",
     "text": [
      "(a) Các đỉnh của đồ thị:  A B C D E F G H I K\n"
     ]
    }
   ],
   "execution_count": 8
  },
  {
   "metadata": {
    "ExecuteTime": {
     "end_time": "2025-09-16T14:21:38.612050Z",
     "start_time": "2025-09-16T14:21:38.599390Z"
    }
   },
   "cell_type": "code",
   "source": [
    "def displayGraph(graph):\n",
    "    for node, neighbors in graph.items():\n",
    "        neighbors_str = \", \".join(neighbors)\n",
    "        if neighbors_str:\n",
    "            print(f\"- Đỉnh {node}: {neighbors_str}, \")\n",
    "        else:\n",
    "            print(f\"- Đỉnh {node}: \")\n",
    "\n",
    "print(\"(b) Danh sách kề của đồ thị: \")\n",
    "displayGraph(graph)"
   ],
   "id": "86960788c1a51084",
   "outputs": [
    {
     "name": "stdout",
     "output_type": "stream",
     "text": [
      "(b) Danh sách kề của đồ thị: \n",
      "- Đỉnh A: C, F, E, D, \n",
      "- Đỉnh B: \n",
      "- Đỉnh C: H, \n",
      "- Đỉnh D: E, H, \n",
      "- Đỉnh E: K, I, \n",
      "- Đỉnh F: G, I, \n",
      "- Đỉnh G: \n",
      "- Đỉnh H: K, \n",
      "- Đỉnh I: B, K, \n",
      "- Đỉnh K: B, \n"
     ]
    }
   ],
   "execution_count": 11
  },
  {
   "metadata": {
    "ExecuteTime": {
     "end_time": "2025-09-16T14:33:02.787457Z",
     "start_time": "2025-09-16T14:33:02.769640Z"
    }
   },
   "cell_type": "code",
   "source": [
    "def LaKe(G, a, b):\n",
    "    \"\"\"\n",
    "    input: G, a, b\n",
    "    return: \n",
    "        -1: đỉnh a, hay b không tồn tại\n",
    "        0: đỉnh a, b tồn tại và a không kề b\n",
    "        1: đỉnh a, b tồn tại và a kề b\n",
    "    \"\"\"\n",
    "    \n",
    "    if a not in G or b not in G:\n",
    "        return -1\n",
    "\n",
    "    if b in G[a]:\n",
    "        return 1\n",
    "    else:\n",
    "        return 0\n",
    "\n",
    "print(\"(c) Hai đỉnh A, B có kề nhau không? \")\n",
    "a = \"L\"; b = \"R\"; print(f\"{a} kề {b}: {LaKe(graph, a, b)}\")\n",
    "a = \"A\"; b = \"R\"; print(f\"{a} kề {b}: {LaKe(graph, a, b)}\")\n",
    "a = \"E\"; b = \"D\"; print(f\"{a} kề {b}: {LaKe(graph, a, b)}\")\n",
    "a = \"D\"; b = \"E\"; print(f\"{a} kề {b}: {LaKe(graph, a, b)}\")"
   ],
   "id": "56d5d53a810f14a0",
   "outputs": [
    {
     "name": "stdout",
     "output_type": "stream",
     "text": [
      "(c) Hai đỉnh A, B có kề nhau không? \n",
      "L kề R: -1\n",
      "A kề R: -1\n",
      "E kề D: 0\n",
      "D kề E: 1\n"
     ]
    }
   ],
   "execution_count": 13
  },
  {
   "metadata": {
    "ExecuteTime": {
     "end_time": "2025-09-16T14:37:35.547977Z",
     "start_time": "2025-09-16T14:37:35.538220Z"
    }
   },
   "cell_type": "code",
   "source": [
    "def LayKe(G, a):\n",
    "    \"\"\"\n",
    "    input: G, a\n",
    "    return: \n",
    "        None: nếu a không tồn tại\n",
    "        []  : a không kề với bất kỳ đỉnh nào\n",
    "        [x, y, ...]: mảng các đỉnh kề với a\n",
    "    \"\"\"\n",
    "    if a not in G:\n",
    "        return None\n",
    "\n",
    "    neighbors = list(G[a])\n",
    "    return neighbors\n",
    "\n",
    "print(\"(d) Danh sách các đỉnh kề với A:\")\n",
    "a = \"P\"; print(f\"Danh sách kề với đỉnh {a}: {LayKe(graph, a)}\")\n",
    "a = \"A\"; print(f\"Danh sách kề với đỉnh {a}: {LayKe(graph, a)}\")\n",
    "a = \"B\"; print(f\"Danh sách kề với đỉnh {a}: {LayKe(graph, a)}\")\n",
    "a = \"D\"; print(f\"Danh sách kề với đỉnh {a}: {LayKe(graph, a)}\")"
   ],
   "id": "8f3ae31768ea208e",
   "outputs": [
    {
     "name": "stdout",
     "output_type": "stream",
     "text": [
      "(d) Danh sách các đỉnh kề với A:\n",
      "Danh sách kề với đỉnh P: None\n",
      "Danh sách kề với đỉnh A: ['C', 'F', 'E', 'D']\n",
      "Danh sách kề với đỉnh B: []\n",
      "Danh sách kề với đỉnh D: ['E', 'H']\n"
     ]
    }
   ],
   "execution_count": 14
  },
  {
   "metadata": {},
   "cell_type": "markdown",
   "source": "### 3. Đọc & lưu đồ thị",
   "id": "2fe5639d3ffbc138"
  },
  {
   "metadata": {
    "ExecuteTime": {
     "end_time": "2025-09-16T14:48:18.237984Z",
     "start_time": "2025-09-16T14:48:18.224624Z"
    }
   },
   "cell_type": "code",
   "source": [
    "def saveGraph(G, file_path, verbose=True):\n",
    "    import os\n",
    "\n",
    "    file_dir = os.path.dirname(file_path)\n",
    "    if file_dir != \"\" and not os.path.exists(file_dir):\n",
    "        os.makedirs(file_dir)\n",
    "        if verbose:\n",
    "            print(f\"- Tạo thư mục: {file_dir}\")\n",
    "\n",
    "    with open(file_path, \"wt\") as file:\n",
    "        for node, neighbors in G.items():\n",
    "            neighbors_str = \", \".join(sorted(neighbors))  # sắp xếp để cố định thứ tự\n",
    "            file.write(f\"{node}: {neighbors_str}\\n\")\n",
    "\n",
    "        if verbose:\n",
    "            print(f\"Lưu đồ thị thành công xuống tập tin: {file_path}\")\n",
    "\n",
    "saveGraph(graph, \"dske.txt\", verbose=True)\n",
    "\n",
    "with open(\"dske.txt\", \"rt\") as file:\n",
    "    lines = file.readlines()\n",
    "    for line in lines:\n",
    "        print(line, end=\"\")"
   ],
   "id": "dfd913c417c6737",
   "outputs": [
    {
     "name": "stdout",
     "output_type": "stream",
     "text": [
      "Lưu đồ thị thành công xuống tập tin: dske.txt\n",
      "A: C, D, E, F\n",
      "B: \n",
      "C: H\n",
      "D: E, H\n",
      "E: I, K\n",
      "F: G, I\n",
      "G: \n",
      "H: K\n",
      "I: B, K\n",
      "K: B\n"
     ]
    }
   ],
   "execution_count": 15
  },
  {
   "metadata": {
    "ExecuteTime": {
     "end_time": "2025-09-16T14:52:10.904696Z",
     "start_time": "2025-09-16T14:52:10.884901Z"
    }
   },
   "cell_type": "code",
   "source": [
    "import pprint\n",
    "\n",
    "def readGraph(file_path, verbose=True):\n",
    "    \"\"\"\n",
    "    return:\n",
    "        None: đọc thất bại\n",
    "        dict: danh sách kề của đồ thị\n",
    "    \"\"\"\n",
    "    import os\n",
    "\n",
    "    result = None\n",
    "    if not os.path.exists(file_path):\n",
    "        result = None\n",
    "    else:\n",
    "        G = {}\n",
    "        with open(file_path, \"rt\") as file:\n",
    "            for line in file:\n",
    "                line = line.strip()\n",
    "                if not line:\n",
    "                    continue\n",
    "                node, neighbors_str = line.split(\":\")\n",
    "                node = node.strip()\n",
    "                if neighbors_str.strip() == \"\":\n",
    "                    neighbors = set()\n",
    "                else:\n",
    "                    neighbors = set(x.strip() for x in neighbors_str.split(\",\") if x.strip() != \"\")\n",
    "                G[node] = neighbors\n",
    "        result = G\n",
    "        if verbose:\n",
    "            print(f\"Đọc đồ thị thành công từ tập tin: {file_path}\")\n",
    "    return result\n",
    "\n",
    "G1 = readGraph(\"dske.txt\", verbose=True)\n",
    "pprint.pprint(G1)"
   ],
   "id": "45a3abb3d82a3b9d",
   "outputs": [
    {
     "name": "stdout",
     "output_type": "stream",
     "text": [
      "Đọc đồ thị thành công từ tập tin: dske.txt\n",
      "{'A': {'C', 'F', 'E', 'D'},\n",
      " 'B': set(),\n",
      " 'C': {'H'},\n",
      " 'D': {'E', 'H'},\n",
      " 'E': {'K', 'I'},\n",
      " 'F': {'G', 'I'},\n",
      " 'G': set(),\n",
      " 'H': {'K'},\n",
      " 'I': {'B', 'K'},\n",
      " 'K': {'B'}}\n"
     ]
    }
   ],
   "execution_count": 16
  }
 ],
 "metadata": {
  "kernelspec": {
   "display_name": "Python 3",
   "language": "python",
   "name": "python3"
  },
  "language_info": {
   "codemirror_mode": {
    "name": "ipython",
    "version": 2
   },
   "file_extension": ".py",
   "mimetype": "text/x-python",
   "name": "python",
   "nbconvert_exporter": "python",
   "pygments_lexer": "ipython2",
   "version": "2.7.6"
  }
 },
 "nbformat": 4,
 "nbformat_minor": 5
}
