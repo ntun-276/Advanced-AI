{
 "cells": [
  {
   "metadata": {},
   "cell_type": "markdown",
   "source": "# Tìm kiếm trong không gian trạng thái",
   "id": "113543121baa1f79"
  },
  {
   "metadata": {},
   "cell_type": "markdown",
   "source": [
    "## Bài 1: Biểu diễn đồ thị\n",
    "\n",
    "Cho đồ thị hàm số G(V,E) như bên:"
   ],
   "id": "f62b7cab4714ac99"
  },
  {
   "metadata": {},
   "cell_type": "markdown",
   "source": "![dothi](dothi.png)",
   "id": "ebf9e63a61b6632"
  },
  {
   "metadata": {},
   "cell_type": "markdown",
   "source": "### 1. Biễu diễn bằng danh sách / ma trận kề",
   "id": "4d9edc0aa13bd17a"
  },
  {
   "cell_type": "code",
   "id": "initial_id",
   "metadata": {
    "collapsed": true,
    "ExecuteTime": {
     "end_time": "2025-09-17T07:31:13.630333Z",
     "start_time": "2025-09-17T07:31:13.610443Z"
    }
   },
   "source": [
    "import pprint\n",
    "\n",
    "graph = {\n",
    "    'A': {'C', 'E', 'D', 'F'},\n",
    "    'B': {},\n",
    "    'C': {'H'},\n",
    "    'D': {'H', 'E'},\n",
    "    'E': {'K', 'I'},\n",
    "    'F': {'I', 'G'},\n",
    "    'G': {},\n",
    "    'H': {'K'},\n",
    "    'I': {'B', 'K'},\n",
    "    'K': {'B'}\n",
    "}\n",
    "\n",
    "pprint.pprint(graph)"
   ],
   "outputs": [
    {
     "name": "stdout",
     "output_type": "stream",
     "text": [
      "{'A': {'E', 'F', 'D', 'C'},\n",
      " 'B': {},\n",
      " 'C': {'H'},\n",
      " 'D': {'E', 'H'},\n",
      " 'E': {'K', 'I'},\n",
      " 'F': {'G', 'I'},\n",
      " 'G': {},\n",
      " 'H': {'K'},\n",
      " 'I': {'B', 'K'},\n",
      " 'K': {'B'}}\n"
     ]
    }
   ],
   "execution_count": 2
  },
  {
   "metadata": {},
   "cell_type": "markdown",
   "source": [
    "### 2. Thao tác duyệt đồ thị\n",
    "\n",
    "(a) Liệt kê các đỉnh trong đồ thị. <br/>\n",
    "(b) Liệt kê tất cả các cạnh đồ thị hiển thị dạng danh sách kề. <br/>\n",
    "(c) Cho hai đỉnh A, B. Hỏi hai đỉnh A, B có kề nhau không? <br/>\n",
    "(d) Cho một đỉnh A. Hỏi danh sách các đỉnh kề với A. <br/>"
   ],
   "id": "4225c5c5fe106e3f"
  },
  {
   "metadata": {
    "ExecuteTime": {
     "end_time": "2025-09-17T07:31:16.225991Z",
     "start_time": "2025-09-17T07:31:16.211994Z"
    }
   },
   "cell_type": "code",
   "source": [
    "vertices = list(graph.keys())\n",
    "\n",
    "print(\"(a) Các đỉnh của đồ thị: \", \" \".join(vertices))"
   ],
   "id": "7ef18059ed0785bd",
   "outputs": [
    {
     "name": "stdout",
     "output_type": "stream",
     "text": [
      "(a) Các đỉnh của đồ thị:  A B C D E F G H I K\n"
     ]
    }
   ],
   "execution_count": 3
  },
  {
   "metadata": {
    "ExecuteTime": {
     "end_time": "2025-09-17T07:31:17.925118Z",
     "start_time": "2025-09-17T07:31:17.914890Z"
    }
   },
   "cell_type": "code",
   "source": [
    "def displayGraph(graph):\n",
    "    for node, neighbors in graph.items():\n",
    "        neighbors_str = \", \".join(neighbors)\n",
    "        if neighbors_str:\n",
    "            print(f\"- Đỉnh {node}: {neighbors_str}, \")\n",
    "        else:\n",
    "            print(f\"- Đỉnh {node}: \")\n",
    "\n",
    "print(\"(b) Danh sách kề của đồ thị: \")\n",
    "displayGraph(graph)"
   ],
   "id": "86960788c1a51084",
   "outputs": [
    {
     "name": "stdout",
     "output_type": "stream",
     "text": [
      "(b) Danh sách kề của đồ thị: \n",
      "- Đỉnh A: E, F, D, C, \n",
      "- Đỉnh B: \n",
      "- Đỉnh C: H, \n",
      "- Đỉnh D: E, H, \n",
      "- Đỉnh E: K, I, \n",
      "- Đỉnh F: G, I, \n",
      "- Đỉnh G: \n",
      "- Đỉnh H: K, \n",
      "- Đỉnh I: B, K, \n",
      "- Đỉnh K: B, \n"
     ]
    }
   ],
   "execution_count": 4
  },
  {
   "metadata": {
    "ExecuteTime": {
     "end_time": "2025-09-17T07:31:19.451613Z",
     "start_time": "2025-09-17T07:31:19.435465Z"
    }
   },
   "cell_type": "code",
   "source": [
    "def LaKe(G, a, b):\n",
    "    \"\"\"\n",
    "    input: G, a, b\n",
    "    return: \n",
    "        -1: đỉnh a, hay b không tồn tại\n",
    "        0: đỉnh a, b tồn tại và a không kề b\n",
    "        1: đỉnh a, b tồn tại và a kề b\n",
    "    \"\"\"\n",
    "    \n",
    "    if a not in G or b not in G:\n",
    "        return -1\n",
    "\n",
    "    if b in G[a]:\n",
    "        return 1\n",
    "    else:\n",
    "        return 0\n",
    "\n",
    "print(\"(c) Hai đỉnh A, B có kề nhau không? \")\n",
    "a = \"L\"; b = \"R\"; print(f\"{a} kề {b}: {LaKe(graph, a, b)}\")\n",
    "a = \"A\"; b = \"R\"; print(f\"{a} kề {b}: {LaKe(graph, a, b)}\")\n",
    "a = \"E\"; b = \"D\"; print(f\"{a} kề {b}: {LaKe(graph, a, b)}\")\n",
    "a = \"D\"; b = \"E\"; print(f\"{a} kề {b}: {LaKe(graph, a, b)}\")"
   ],
   "id": "56d5d53a810f14a0",
   "outputs": [
    {
     "name": "stdout",
     "output_type": "stream",
     "text": [
      "(c) Hai đỉnh A, B có kề nhau không? \n",
      "L kề R: -1\n",
      "A kề R: -1\n",
      "E kề D: 0\n",
      "D kề E: 1\n"
     ]
    }
   ],
   "execution_count": 5
  },
  {
   "metadata": {
    "ExecuteTime": {
     "end_time": "2025-09-17T07:31:24.624477Z",
     "start_time": "2025-09-17T07:31:24.612470Z"
    }
   },
   "cell_type": "code",
   "source": [
    "def LayKe(G, a):\n",
    "    \"\"\"\n",
    "    input: G, a\n",
    "    return: \n",
    "        None: nếu a không tồn tại\n",
    "        []  : a không kề với bất kỳ đỉnh nào\n",
    "        [x, y, ...]: mảng các đỉnh kề với a\n",
    "    \"\"\"\n",
    "    if a not in G:\n",
    "        return None\n",
    "\n",
    "    neighbors = list(G[a])\n",
    "    return neighbors\n",
    "\n",
    "print(\"(d) Danh sách các đỉnh kề với A:\")\n",
    "a = \"P\"; print(f\"Danh sách kề với đỉnh {a}: {LayKe(graph, a)}\")\n",
    "a = \"A\"; print(f\"Danh sách kề với đỉnh {a}: {LayKe(graph, a)}\")\n",
    "a = \"B\"; print(f\"Danh sách kề với đỉnh {a}: {LayKe(graph, a)}\")\n",
    "a = \"D\"; print(f\"Danh sách kề với đỉnh {a}: {LayKe(graph, a)}\")"
   ],
   "id": "8f3ae31768ea208e",
   "outputs": [
    {
     "name": "stdout",
     "output_type": "stream",
     "text": [
      "(d) Danh sách các đỉnh kề với A:\n",
      "Danh sách kề với đỉnh P: None\n",
      "Danh sách kề với đỉnh A: ['E', 'F', 'D', 'C']\n",
      "Danh sách kề với đỉnh B: []\n",
      "Danh sách kề với đỉnh D: ['E', 'H']\n"
     ]
    }
   ],
   "execution_count": 6
  },
  {
   "metadata": {},
   "cell_type": "markdown",
   "source": "### 3. Đọc & lưu đồ thị",
   "id": "2fe5639d3ffbc138"
  },
  {
   "metadata": {
    "ExecuteTime": {
     "end_time": "2025-09-17T07:31:27.192036Z",
     "start_time": "2025-09-17T07:31:27.171289Z"
    }
   },
   "cell_type": "code",
   "source": [
    "def saveGraph(G, file_path, verbose=True):\n",
    "    import os\n",
    "\n",
    "    file_dir = os.path.dirname(file_path)\n",
    "    if file_dir != \"\" and not os.path.exists(file_dir):\n",
    "        os.makedirs(file_dir)\n",
    "        if verbose:\n",
    "            print(f\"- Tạo thư mục: {file_dir}\")\n",
    "\n",
    "    with open(file_path, \"wt\") as file:\n",
    "        for node, neighbors in G.items():\n",
    "            neighbors_str = \", \".join(sorted(neighbors))  # sắp xếp để cố định thứ tự\n",
    "            file.write(f\"{node}: {neighbors_str}\\n\")\n",
    "\n",
    "        if verbose:\n",
    "            print(f\"Lưu đồ thị thành công xuống tập tin: {file_path}\")\n",
    "\n",
    "saveGraph(graph, \"dske.txt\", verbose=True)\n",
    "\n",
    "with open(\"dske.txt\", \"rt\") as file:\n",
    "    lines = file.readlines()\n",
    "    for line in lines:\n",
    "        print(line, end=\"\")"
   ],
   "id": "dfd913c417c6737",
   "outputs": [
    {
     "name": "stdout",
     "output_type": "stream",
     "text": [
      "Lưu đồ thị thành công xuống tập tin: dske.txt\n",
      "A: C, D, E, F\n",
      "B: \n",
      "C: H\n",
      "D: E, H\n",
      "E: I, K\n",
      "F: G, I\n",
      "G: \n",
      "H: K\n",
      "I: B, K\n",
      "K: B\n"
     ]
    }
   ],
   "execution_count": 7
  },
  {
   "metadata": {
    "ExecuteTime": {
     "end_time": "2025-09-17T07:31:30.035721Z",
     "start_time": "2025-09-17T07:31:30.026960Z"
    }
   },
   "cell_type": "code",
   "source": [
    "import pprint\n",
    "\n",
    "def readGraph(file_path, verbose=True):\n",
    "    \"\"\"\n",
    "    return:\n",
    "        None: đọc thất bại\n",
    "        dict: danh sách kề của đồ thị\n",
    "    \"\"\"\n",
    "    import os\n",
    "\n",
    "    result = None\n",
    "    if not os.path.exists(file_path):\n",
    "        result = None\n",
    "    else:\n",
    "        G = {}\n",
    "        with open(file_path, \"rt\") as file:\n",
    "            for line in file:\n",
    "                line = line.strip()\n",
    "                if not line:\n",
    "                    continue\n",
    "                node, neighbors_str = line.split(\":\")\n",
    "                node = node.strip()\n",
    "                if neighbors_str.strip() == \"\":\n",
    "                    neighbors = set()\n",
    "                else:\n",
    "                    neighbors = set(x.strip() for x in neighbors_str.split(\",\") if x.strip() != \"\")\n",
    "                G[node] = neighbors\n",
    "        result = G\n",
    "        if verbose:\n",
    "            print(f\"Đọc đồ thị thành công từ tập tin: {file_path}\")\n",
    "    return result\n",
    "\n",
    "G1 = readGraph(\"dske.txt\", verbose=True)\n",
    "pprint.pprint(G1)"
   ],
   "id": "45a3abb3d82a3b9d",
   "outputs": [
    {
     "name": "stdout",
     "output_type": "stream",
     "text": [
      "Đọc đồ thị thành công từ tập tin: dske.txt\n",
      "{'A': {'E', 'F', 'D', 'C'},\n",
      " 'B': set(),\n",
      " 'C': {'H'},\n",
      " 'D': {'E', 'H'},\n",
      " 'E': {'K', 'I'},\n",
      " 'F': {'I', 'G'},\n",
      " 'G': set(),\n",
      " 'H': {'K'},\n",
      " 'I': {'B', 'K'},\n",
      " 'K': {'B'}}\n"
     ]
    }
   ],
   "execution_count": 8
  },
  {
   "metadata": {},
   "cell_type": "markdown",
   "source": "## Bài 2: Tìm kiếm đường đi trên đồ thị",
   "id": "9cb97c055ac4ddf7"
  },
  {
   "metadata": {},
   "cell_type": "markdown",
   "source": "### 1. Tìm kiếm theo chiều rộng (BFS)",
   "id": "927dcdf25a52b915"
  },
  {
   "metadata": {
    "ExecuteTime": {
     "end_time": "2025-09-17T07:38:12.850063Z",
     "start_time": "2025-09-17T07:38:12.844602Z"
    }
   },
   "cell_type": "code",
   "source": [
    "import pprint\n",
    "\n",
    "def BFS(G, start, goal):\n",
    "    \"\"\"\n",
    "    return: \n",
    "        mảng chứa đường đi từ start --> goal, nếu rỗng [] là không có đường đi\n",
    "        None: nếu start hoặc goal không hợp lệ\n",
    "    \"\"\"\n",
    "    \n",
    "    if G.get(start) is None or G.get(goal) is None:\n",
    "        return None\n",
    "    else:\n",
    "        path = {}       # path[a] = b nghĩa là để đến b phải đi qua a\n",
    "        s_open   = []\n",
    "        s_closed = []\n",
    "\n",
    "    # đưa start vào open\n",
    "    s_open.append(start)\n",
    "    path[start] = None\n",
    "\n",
    "    while len(s_open) > 0:\n",
    "        u = s_open.pop(0)\n",
    "        s_closed.append(u)\n",
    "\n",
    "        for v in G[u]:\n",
    "            if v not in s_open and v not in s_closed:\n",
    "                s_open.append(v)\n",
    "                path[v] = u\n",
    "    return path\n",
    "\n",
    "    return []\n",
    "\n",
    "path = BFS(graph, \"A\", \"B\")\n",
    "pprint.pprint(path)"
   ],
   "id": "4a43c4369933dc73",
   "outputs": [
    {
     "name": "stdout",
     "output_type": "stream",
     "text": [
      "{'A': None,\n",
      " 'B': 'K',\n",
      " 'C': 'A',\n",
      " 'D': 'A',\n",
      " 'E': 'A',\n",
      " 'F': 'A',\n",
      " 'G': 'F',\n",
      " 'H': 'D',\n",
      " 'I': 'E',\n",
      " 'K': 'E'}\n"
     ]
    }
   ],
   "execution_count": 13
  },
  {
   "metadata": {
    "ExecuteTime": {
     "end_time": "2025-09-17T07:41:31.116446Z",
     "start_time": "2025-09-17T07:41:31.104214Z"
    }
   },
   "cell_type": "code",
   "source": [
    "def findPath(path, start, goal):\n",
    "    \"\"\"\n",
    "    Cho mảng truy hồi đường, tìm ds đỉnh từ start --> goal\n",
    "    \"\"\"\n",
    "    result = []\n",
    "\n",
    "    if goal not in path or start not in path:\n",
    "        return []\n",
    "\n",
    "    v = goal\n",
    "    while v is not None:\n",
    "        result.insert(0, v)\n",
    "        v = path[v]\n",
    "\n",
    "    if result[0] != start:\n",
    "        return []\n",
    "\n",
    "    return result\n",
    "\n",
    "findPath(path, 'A', 'B')"
   ],
   "id": "29ecae59f762f1ef",
   "outputs": [
    {
     "data": {
      "text/plain": [
       "['A', 'E', 'K', 'B']"
      ]
     },
     "execution_count": 14,
     "metadata": {},
     "output_type": "execute_result"
    }
   ],
   "execution_count": 14
  },
  {
   "metadata": {},
   "cell_type": "markdown",
   "source": "### 2. Tìm kiếm theo chiều rộng (DFS)",
   "id": "90c9e467705a6f11"
  },
  {
   "metadata": {
    "ExecuteTime": {
     "end_time": "2025-09-17T07:54:25.947800Z",
     "start_time": "2025-09-17T07:54:25.936286Z"
    }
   },
   "cell_type": "code",
   "source": [
    "import pprint\n",
    "\n",
    "def DFS(G, start, goal):\n",
    "    \"\"\"\n",
    "    return: \n",
    "        path: dict lưu vết đường đi từ start --> goal, nếu rỗng [] là ko có đường đi\n",
    "        None: start hoặc goal không hợp lệ\n",
    "    \"\"\"\n",
    "    result = None\n",
    "\n",
    "    if G.get(start) is None or G.get(goal) is None:\n",
    "        result = None\n",
    "    else:\n",
    "        path = {}\n",
    "        s_open   = []\n",
    "        s_closed = []\n",
    "\n",
    "        # đưa start vào open\n",
    "        s_open.append(start)\n",
    "        path[start] = None\n",
    "\n",
    "        while len(s_open) > 0:\n",
    "            u = s_open.pop()\n",
    "            if u in s_closed:\n",
    "                continue\n",
    "            s_closed.append(u)\n",
    "\n",
    "            for v in sorted(G[u]):\n",
    "                if v not in s_closed and v not in s_open:\n",
    "                    path[v] = u\n",
    "                    s_open.append(v)\n",
    "        result = path\n",
    "\n",
    "    return result\n",
    "\n",
    "path = DFS(graph, \"A\", \"B\")\n",
    "pprint.pprint(path)"
   ],
   "id": "44f985179cd1a28e",
   "outputs": [
    {
     "name": "stdout",
     "output_type": "stream",
     "text": [
      "{'A': None,\n",
      " 'B': 'I',\n",
      " 'C': 'A',\n",
      " 'D': 'A',\n",
      " 'E': 'A',\n",
      " 'F': 'A',\n",
      " 'G': 'F',\n",
      " 'H': 'D',\n",
      " 'I': 'F',\n",
      " 'K': 'I'}\n"
     ]
    }
   ],
   "execution_count": 17
  }
 ],
 "metadata": {
  "kernelspec": {
   "display_name": "Python 3",
   "language": "python",
   "name": "python3"
  },
  "language_info": {
   "codemirror_mode": {
    "name": "ipython",
    "version": 2
   },
   "file_extension": ".py",
   "mimetype": "text/x-python",
   "name": "python",
   "nbconvert_exporter": "python",
   "pygments_lexer": "ipython2",
   "version": "2.7.6"
  }
 },
 "nbformat": 4,
 "nbformat_minor": 5
}
